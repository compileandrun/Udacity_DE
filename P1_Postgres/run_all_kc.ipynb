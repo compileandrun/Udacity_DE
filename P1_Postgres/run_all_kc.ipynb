{
 "cells": [
  {
   "cell_type": "code",
   "execution_count": 1,
   "id": "675befba",
   "metadata": {},
   "outputs": [],
   "source": [
    "import os\n",
    "import glob\n",
    "import psycopg2\n",
    "import pandas as pd\n",
    "from sql_queries import *\n",
    "import datetime\n",
    "import create_tables_kc\n",
    "import etl\n",
    "import test_kc\n",
    "from psycopg2.extensions import AsIs"
   ]
  },
  {
   "cell_type": "code",
   "execution_count": 2,
   "id": "4fa13ef2",
   "metadata": {},
   "outputs": [],
   "source": [
    "table_names = [\"songs\",\"artists\",\"users\",\"date_time\",\"songplays\"]"
   ]
  },
  {
   "cell_type": "code",
   "execution_count": 3,
   "id": "dc754bc1",
   "metadata": {},
   "outputs": [
    {
     "name": "stdout",
     "output_type": "stream",
     "text": [
      "connection created \n",
      "\n",
      "Dropping Tables\n",
      "Table dropped: DROP TABLE IF EXISTS songplays\n",
      "Dropping Tables\n",
      "Table dropped: DROP TABLE IF EXISTS  users\n",
      "Dropping Tables\n",
      "Table dropped: DROP TABLE IF EXISTS songs\n",
      "Dropping Tables\n",
      "Table dropped: DROP TABLE IF EXISTS artists\n",
      "Dropping Tables\n",
      "Table dropped: DROP TABLE IF EXISTS date_time\n",
      "all tables are created\n"
     ]
    }
   ],
   "source": [
    "cur,conn = create_tables_kc.create_database()\n",
    "create_tables_kc.drop_tables(cur,conn)\n",
    "create_tables_kc.create_tables(cur,conn)"
   ]
  },
  {
   "cell_type": "code",
   "execution_count": 4,
   "id": "c4b01970",
   "metadata": {},
   "outputs": [],
   "source": [
    "#conn.close()"
   ]
  },
  {
   "cell_type": "code",
   "execution_count": 5,
   "id": "59e7f93f",
   "metadata": {},
   "outputs": [
    {
     "name": "stdout",
     "output_type": "stream",
     "text": [
      "71 files found in /Users/koray/Documents/Udacity_DE/project-template/data/song_data\n",
      "71/71 files processed.\n",
      "30 files found in /Users/koray/Documents/Udacity_DE/project-template/data/log_data\n",
      "('SOZCTXZ12AB0182364', 'AR5KOSW1187FB35FF4')\n",
      "30/30 files processed.\n"
     ]
    }
   ],
   "source": [
    "etl.main()"
   ]
  },
  {
   "cell_type": "code",
   "execution_count": 6,
   "id": "ad513a67",
   "metadata": {},
   "outputs": [
    {
     "name": "stdout",
     "output_type": "stream",
     "text": [
      "<class 'pandas.core.frame.DataFrame'>\n",
      "RangeIndex: 71 entries, 0 to 70\n",
      "Data columns (total 5 columns):\n",
      " #   Column     Non-Null Count  Dtype  \n",
      "---  ------     --------------  -----  \n",
      " 0   song_id    71 non-null     object \n",
      " 1   title      71 non-null     object \n",
      " 2   artist_id  71 non-null     object \n",
      " 3   year       71 non-null     int64  \n",
      " 4   duration   71 non-null     float64\n",
      "dtypes: float64(1), int64(1), object(3)\n",
      "memory usage: 2.9+ KB\n",
      "              song_id            title           artist_id  year   duration\n",
      "0  SONHOTT12A8C13493C  Something Girls  AR7G5I41187FB4CE6C  1982  233.40363\n",
      "1  SOIAZJW12AB01853F1       Pink World  AR8ZCNI1187B9A069B  1984  269.81832\n",
      "2  SOFSOCN12A8C143F5D   Face the Ashes  ARXR32B1187FB57099  2007  209.60608\n",
      "3  SOHKNRJ12A6701D1F8     Drop of Rain  AR10USD1187B99F3F1     0  189.57016\n",
      "4  SOQHXMF12AB0182363  Young Boy Blues  ARGSJW91187B9B1D6B     0  218.77506 \n",
      " None n\n",
      "<class 'pandas.core.frame.DataFrame'>\n",
      "RangeIndex: 69 entries, 0 to 68\n",
      "Data columns (total 5 columns):\n",
      " #   Column       Non-Null Count  Dtype  \n",
      "---  ------       --------------  -----  \n",
      " 0   artist_id    69 non-null     object \n",
      " 1   artist_name  69 non-null     object \n",
      " 2   location     69 non-null     object \n",
      " 3   latitude     31 non-null     float64\n",
      " 4   longitude    31 non-null     float64\n",
      "dtypes: float64(2), object(3)\n",
      "memory usage: 2.8+ KB\n",
      "            artist_id            artist_name                     location  \\\n",
      "0  AR7G5I41187FB4CE6C               Adam Ant              London, England   \n",
      "1  AR8ZCNI1187B9A069B       Planet P Project                                \n",
      "2  ARXR32B1187FB57099                    Gob                                \n",
      "3  AR10USD1187B99F3F1  Tweeterfriendly Music  Burlington, Ontario, Canada   \n",
      "4  ARGSJW91187B9B1D6B           JennyAnyKind               North Carolina   \n",
      "\n",
      "   latitude  longitude  \n",
      "0       NaN        NaN  \n",
      "1       NaN        NaN  \n",
      "2       NaN        NaN  \n",
      "3       NaN        NaN  \n",
      "4  35.21962  -80.01955   \n",
      " None n\n",
      "<class 'pandas.core.frame.DataFrame'>\n",
      "RangeIndex: 96 entries, 0 to 95\n",
      "Data columns (total 5 columns):\n",
      " #   Column      Non-Null Count  Dtype \n",
      "---  ------      --------------  ----- \n",
      " 0   user_id     96 non-null     int64 \n",
      " 1   first_name  96 non-null     object\n",
      " 2   last_name   96 non-null     object\n",
      " 3   gender      96 non-null     object\n",
      " 4   level       96 non-null     object\n",
      "dtypes: int64(1), object(4)\n",
      "memory usage: 3.9+ KB\n",
      "   user_id first_name last_name gender level\n",
      "0       94       Noah    Chavez      M  free\n",
      "1       98     Jordyn    Powell      F  free\n",
      "2       40     Tucker  Garrison      M  free\n",
      "3       96     Cierra    Finley      F  free\n",
      "4       14   Theodore    Harris      M  free \n",
      " None n\n",
      "<class 'pandas.core.frame.DataFrame'>\n",
      "RangeIndex: 6813 entries, 0 to 6812\n",
      "Data columns (total 7 columns):\n",
      " #   Column      Non-Null Count  Dtype         \n",
      "---  ------      --------------  -----         \n",
      " 0   start_time  6813 non-null   datetime64[ns]\n",
      " 1   hour        6813 non-null   int64         \n",
      " 2   day         6813 non-null   int64         \n",
      " 3   week        6813 non-null   int64         \n",
      " 4   month       6813 non-null   int64         \n",
      " 5   year        6813 non-null   int64         \n",
      " 6   weekday     6813 non-null   int64         \n",
      "dtypes: datetime64[ns](1), int64(6)\n",
      "memory usage: 372.7 KB\n",
      "               start_time  hour  day  week  month  year  weekday\n",
      "0 2018-11-11 02:33:56.796     2   11    45     11  2018        6\n",
      "1 2018-11-11 02:36:10.796     2   11    45     11  2018        6\n",
      "2 2018-11-11 02:40:34.796     2   11    45     11  2018        6\n",
      "3 2018-11-11 04:36:13.796     4   11    45     11  2018        6\n",
      "4 2018-11-11 04:36:46.796     4   11    45     11  2018        6 \n",
      " None n\n",
      "<class 'pandas.core.frame.DataFrame'>\n",
      "RangeIndex: 6820 entries, 0 to 6819\n",
      "Data columns (total 9 columns):\n",
      " #   Column       Non-Null Count  Dtype         \n",
      "---  ------       --------------  -----         \n",
      " 0   songplay_id  6820 non-null   int64         \n",
      " 1   start_time   6820 non-null   datetime64[ns]\n",
      " 2   user_id      6820 non-null   int64         \n",
      " 3   level        6820 non-null   object        \n",
      " 4   song_id      1 non-null      object        \n",
      " 5   artist_id    1 non-null      object        \n",
      " 6   session_id   6820 non-null   object        \n",
      " 7   location     6820 non-null   object        \n",
      " 8   user_agent   6820 non-null   object        \n",
      "dtypes: datetime64[ns](1), int64(2), object(6)\n",
      "memory usage: 479.7+ KB\n",
      "   songplay_id              start_time  user_id level song_id artist_id  \\\n",
      "0            1 2018-11-11 02:33:56.796       69  free    None      None   \n",
      "1            2 2018-11-11 02:36:10.796       69  free    None      None   \n",
      "2            3 2018-11-11 02:40:34.796       69  free    None      None   \n",
      "3            4 2018-11-11 04:36:13.796       32  free    None      None   \n",
      "4            5 2018-11-11 04:36:46.796       75  free    None      None   \n",
      "\n",
      "  session_id                                     location  \\\n",
      "0        455  Philadelphia-Camden-Wilmington, PA-NJ-DE-MD   \n",
      "1        455  Philadelphia-Camden-Wilmington, PA-NJ-DE-MD   \n",
      "2        455  Philadelphia-Camden-Wilmington, PA-NJ-DE-MD   \n",
      "3        456        New York-Newark-Jersey City, NY-NJ-PA   \n",
      "4        284                                 Columbia, SC   \n",
      "\n",
      "                                          user_agent  \n",
      "0  \"Mozilla/5.0 (Macintosh; Intel Mac OS X 10_9_4...  \n",
      "1  \"Mozilla/5.0 (Macintosh; Intel Mac OS X 10_9_4...  \n",
      "2  \"Mozilla/5.0 (Macintosh; Intel Mac OS X 10_9_4...  \n",
      "3  \"Mozilla/5.0 (Windows NT 6.1; WOW64) AppleWebK...  \n",
      "4  \"Mozilla/5.0 (Macintosh; Intel Mac OS X 10_9_3...   \n",
      " None n\n"
     ]
    }
   ],
   "source": [
    "for i in table_names:\n",
    "    df = test_kc.test_table(cur,conn,i)\n",
    "    print(df.head(),'\\n',df.info(),\"n\")"
   ]
  },
  {
   "cell_type": "code",
   "execution_count": 7,
   "id": "56c2aaeb",
   "metadata": {},
   "outputs": [
    {
     "data": {
      "text/html": [
       "<div>\n",
       "<style scoped>\n",
       "    .dataframe tbody tr th:only-of-type {\n",
       "        vertical-align: middle;\n",
       "    }\n",
       "\n",
       "    .dataframe tbody tr th {\n",
       "        vertical-align: top;\n",
       "    }\n",
       "\n",
       "    .dataframe thead th {\n",
       "        text-align: right;\n",
       "    }\n",
       "</style>\n",
       "<table border=\"1\" class=\"dataframe\">\n",
       "  <thead>\n",
       "    <tr style=\"text-align: right;\">\n",
       "      <th></th>\n",
       "      <th>0</th>\n",
       "      <th>1</th>\n",
       "      <th>2</th>\n",
       "      <th>3</th>\n",
       "      <th>4</th>\n",
       "      <th>5</th>\n",
       "      <th>6</th>\n",
       "      <th>7</th>\n",
       "      <th>8</th>\n",
       "    </tr>\n",
       "  </thead>\n",
       "  <tbody>\n",
       "    <tr>\n",
       "      <th>0</th>\n",
       "      <td>5537</td>\n",
       "      <td>2018-11-21 21:56:47.796</td>\n",
       "      <td>15</td>\n",
       "      <td>paid</td>\n",
       "      <td>SOZCTXZ12AB0182364</td>\n",
       "      <td>AR5KOSW1187FB35FF4</td>\n",
       "      <td>818</td>\n",
       "      <td>Chicago-Naperville-Elgin, IL-IN-WI</td>\n",
       "      <td>\"Mozilla/5.0 (X11; Linux x86_64) AppleWebKit/5...</td>\n",
       "    </tr>\n",
       "  </tbody>\n",
       "</table>\n",
       "</div>"
      ],
      "text/plain": [
       "      0                       1   2     3                   4  \\\n",
       "0  5537 2018-11-21 21:56:47.796  15  paid  SOZCTXZ12AB0182364   \n",
       "\n",
       "                    5    6                                   7  \\\n",
       "0  AR5KOSW1187FB35FF4  818  Chicago-Naperville-Elgin, IL-IN-WI   \n",
       "\n",
       "                                                   8  \n",
       "0  \"Mozilla/5.0 (X11; Linux x86_64) AppleWebKit/5...  "
      ]
     },
     "execution_count": 7,
     "metadata": {},
     "output_type": "execute_result"
    }
   ],
   "source": [
    "#Just another way to test the results\n",
    "cur.execute(\"select * from %s where song_id is not null\" % table_names[4])\n",
    "conn.commit()\n",
    "records = pd.DataFrame(cur.fetchall())\n",
    "records"
   ]
  },
  {
   "cell_type": "code",
   "execution_count": 8,
   "id": "7f5b8eac",
   "metadata": {},
   "outputs": [],
   "source": [
    "conn.close()"
   ]
  },
  {
   "cell_type": "code",
   "execution_count": null,
   "id": "dc235e96",
   "metadata": {},
   "outputs": [],
   "source": []
  }
 ],
 "metadata": {
  "kernelspec": {
   "display_name": "Python 3 (ipykernel)",
   "language": "python",
   "name": "python3"
  },
  "language_info": {
   "codemirror_mode": {
    "name": "ipython",
    "version": 3
   },
   "file_extension": ".py",
   "mimetype": "text/x-python",
   "name": "python",
   "nbconvert_exporter": "python",
   "pygments_lexer": "ipython3",
   "version": "3.9.12"
  }
 },
 "nbformat": 4,
 "nbformat_minor": 5
}
